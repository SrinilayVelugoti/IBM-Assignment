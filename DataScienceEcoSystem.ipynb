{
 "cells": [
  {
   "cell_type": "markdown",
   "id": "cb03736e-edcb-4cb5-b5ca-bda983a33b4e",
   "metadata": {},
   "source": [
    "IBM Data Science Tool Assignment"
   ]
  },
  {
   "cell_type": "markdown",
   "id": "3c5faf76-2ecc-4839-965a-6236e537f085",
   "metadata": {},
   "source": [
    "I am Srinilay a datascience enthusiast"
   ]
  },
  {
   "cell_type": "markdown",
   "id": "ab6cc1a2-c5a5-40ae-9e46-b7015c5f6dc8",
   "metadata": {},
   "source": [
    "Python , R ,SQL , Java , JS "
   ]
  },
  {
   "cell_type": "markdown",
   "id": "cb1c03cb-a61e-4594-a080-87e537616fe0",
   "metadata": {},
   "source": [
    "Pandas , Matplotlib , Numpy , SCI-KIT , Kears , Vegas , RLIBS , GGPLOT"
   ]
  },
  {
   "cell_type": "markdown",
   "id": "6eb9695c-9399-436d-882c-d834ec1cf1ec",
   "metadata": {},
   "source": [
    "|-----|-----|MYSQL | MONGODB | Apache Airflow | Kubeflow | Hue | Kibana | Seldon | Mleap | CoucheDB | Cassandra Apachae Nifi | Spark DB | Prediction IO | Tensor flow - Service | Lite | JS | -----|-----|"
   ]
  },
  {
   "cell_type": "markdown",
   "id": "0058c77a-7d4f-4913-8fff-e24687243d73",
   "metadata": {},
   "source": [
    "$$\n",
    "a+b\n",
    "$$"
   ]
  },
  {
   "cell_type": "code",
   "execution_count": 2,
   "id": "63e6253f-3b0a-4695-a04b-9645fc7de016",
   "metadata": {},
   "outputs": [
    {
     "name": "stdout",
     "output_type": "stream",
     "text": [
      "1125\n",
      "68\n"
     ]
    }
   ],
   "source": [
    "print(25*45)\n",
    "print(23 + 45)"
   ]
  },
  {
   "cell_type": "code",
   "execution_count": 8,
   "id": "f35e68b6-ba7c-4113-a55d-7786ef808812",
   "metadata": {},
   "outputs": [
    {
     "name": "stdin",
     "output_type": "stream",
     "text": [
      "enter minutes :  589\n"
     ]
    },
    {
     "name": "stdout",
     "output_type": "stream",
     "text": [
      "9.816666666666666\n"
     ]
    }
   ],
   "source": [
    "minutes = int(input(\"enter minutes : \"))\n",
    "hours = minutes / 60\n",
    "print(\"hours : \" , hours)"
   ]
  },
  {
   "cell_type": "markdown",
   "id": "4bcac353-8f5f-4a1e-baec-d693a4282e7f",
   "metadata": {},
   "source": [
    "* The course taught be about various data science tools and their use in a variety of scenarios\n",
    "* I also got to know a lot of different data science libraries \n",
    "* Provided insights into the various types of data science tools available and the phases in data science development cycle "
   ]
  },
  {
   "cell_type": "markdown",
   "id": "496bc053-b2de-47a1-813a-ae4d28283799",
   "metadata": {},
   "source": [
    "Srinilay"
   ]
  },
  {
   "cell_type": "markdown",
   "id": "14aac355-32a8-4ff6-b084-7e85b092cb4b",
   "metadata": {},
   "source": [
    "https://github.com/SrinilayVelugoti/IBM-Assignment"
   ]
  },
  {
   "cell_type": "code",
   "execution_count": null,
   "id": "1a17ba48-95cb-4bdc-b3e5-684afe371cb5",
   "metadata": {},
   "outputs": [],
   "source": []
  }
 ],
 "metadata": {
  "kernelspec": {
   "display_name": "Python",
   "language": "python",
   "name": "conda-env-python-py"
  },
  "language_info": {
   "codemirror_mode": {
    "name": "ipython",
    "version": 3
   },
   "file_extension": ".py",
   "mimetype": "text/x-python",
   "name": "python",
   "nbconvert_exporter": "python",
   "pygments_lexer": "ipython3",
   "version": "3.7.12"
  }
 },
 "nbformat": 4,
 "nbformat_minor": 5
}
