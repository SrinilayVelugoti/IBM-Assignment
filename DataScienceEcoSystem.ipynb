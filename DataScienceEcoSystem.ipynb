{
 "cells": [
  {
   "cell_type": "markdown",
   "id": "cb03736e-edcb-4cb5-b5ca-bda983a33b4e",
   "metadata": {},
   "source": [
    "IBM Data Science Tool Assignment"
   ]
  },
  {
   "cell_type": "markdown",
   "id": "3c5faf76-2ecc-4839-965a-6236e537f085",
   "metadata": {},
   "source": [
    "I am Srinilay a datascience enthusiast"
   ]
  },
  {
   "cell_type": "markdown",
   "id": "ab6cc1a2-c5a5-40ae-9e46-b7015c5f6dc8",
   "metadata": {},
   "source": [
    "1. Python \n",
    "2. R \n",
    "3. SQL \n",
    "4. Java \n",
    "5. Scala \n",
    "6. C++  \n",
    "7. JavaScript \n",
    "8. PHP \n",
    "9. Ruby \n",
    "10. Go \n",
    "11. Julia \n",
    "12. Visual Basic\n"
   ]
  },
  {
   "cell_type": "markdown",
   "id": "cb1c03cb-a61e-4594-a080-87e537616fe0",
   "metadata": {},
   "source": [
    "1. Pandas \n",
    "2. Matplotlib\n",
    "3. Numpy \n",
    "4. Seaborn\n",
    "5. Scikit-learn\n",
    "6. Keras\n",
    "7. TensorFlow\n",
    "8. PyTorch\n",
    "9. Apache Spark\n",
    "10. Vegas \n",
    "11. Big DL\n",
    "12. Ggplot2"
   ]
  },
  {
   "cell_type": "markdown",
   "id": "6eb9695c-9399-436d-882c-d834ec1cf1ec",
   "metadata": {},
   "source": [
    "|**Data Science Tools**|\n",
    "|---|\n",
    "|Jupyter Notebooks|\n",
    "|R Studio|\n",
    "|Spyder|\n",
    "|Zeppelin|\n",
    "|Anaconda|"
   ]
  },
  {
   "cell_type": "markdown",
   "id": "0058c77a-7d4f-4913-8fff-e24687243d73",
   "metadata": {},
   "source": [
    "<h3>$a+b$<h3>"
   ]
  },
  {
   "cell_type": "code",
   "execution_count": 2,
   "id": "63e6253f-3b0a-4695-a04b-9645fc7de016",
   "metadata": {},
   "outputs": [
    {
     "name": "stdout",
     "output_type": "stream",
     "text": [
      "1125\n",
      "68\n"
     ]
    }
   ],
   "source": [
    "print(25*45)\n",
    "print(23 + 45)"
   ]
  },
  {
   "cell_type": "code",
   "execution_count": 9,
   "id": "f35e68b6-ba7c-4113-a55d-7786ef808812",
   "metadata": {},
   "outputs": [
    {
     "name": "stdin",
     "output_type": "stream",
     "text": [
      "enter minutes :  789\n"
     ]
    },
    {
     "name": "stdout",
     "output_type": "stream",
     "text": [
      "hours :  13.15\n"
     ]
    }
   ],
   "source": [
    "minutes = int(input(\"enter minutes : \"))\n",
    "hours = minutes / 60\n",
    "print(\"hours : \" , hours)"
   ]
  },
  {
   "cell_type": "markdown",
   "id": "4bcac353-8f5f-4a1e-baec-d693a4282e7f",
   "metadata": {},
   "source": [
    "* **The course taught be about various data science tools and their use in a variety of scenarios**\n",
    "* **I also got to know a lot of different data science libraries** \n",
    "* **Provided insights into the various types of data science tools available and the phases in data science development cycle** "
   ]
  },
  {
   "cell_type": "markdown",
   "id": "496bc053-b2de-47a1-813a-ae4d28283799",
   "metadata": {},
   "source": [
    "**Author**\n",
    "<br>\n",
    "Srinilay"
   ]
  },
  {
   "cell_type": "markdown",
   "id": "14aac355-32a8-4ff6-b084-7e85b092cb4b",
   "metadata": {},
   "source": [
    "https://github.com/SrinilayVelugoti/IBM-Assignment"
   ]
  },
  {
   "cell_type": "code",
   "execution_count": null,
   "id": "1a17ba48-95cb-4bdc-b3e5-684afe371cb5",
   "metadata": {},
   "outputs": [],
   "source": []
  }
 ],
 "metadata": {
  "kernelspec": {
   "display_name": "Python",
   "language": "python",
   "name": "conda-env-python-py"
  },
  "language_info": {
   "codemirror_mode": {
    "name": "ipython",
    "version": 3
   },
   "file_extension": ".py",
   "mimetype": "text/x-python",
   "name": "python",
   "nbconvert_exporter": "python",
   "pygments_lexer": "ipython3",
   "version": "3.7.12"
  }
 },
 "nbformat": 4,
 "nbformat_minor": 5
}
